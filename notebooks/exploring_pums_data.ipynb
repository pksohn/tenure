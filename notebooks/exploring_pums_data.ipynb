{
 "cells": [
  {
   "cell_type": "code",
   "execution_count": 1,
   "metadata": {
    "collapsed": true
   },
   "outputs": [],
   "source": [
    "import os\n",
    "import pandas as pd"
   ]
  },
  {
   "cell_type": "code",
   "execution_count": 2,
   "metadata": {
    "collapsed": false
   },
   "outputs": [
    {
     "name": "stdout",
     "output_type": "stream",
     "text": [
      "['csv_pca.zip', 'ss15hca.csv', 'PUMSDataDict15.pdf', 'ACS2015_PUMS_README.pdf', 'csv_hca.zip', 'ss15pca.csv']\n"
     ]
    }
   ],
   "source": [
    "datadir = os.path.join(os.path.realpath('.'), '..', 'data')\n",
    "print os.listdir(datadir)"
   ]
  },
  {
   "cell_type": "code",
   "execution_count": 3,
   "metadata": {
    "collapsed": false
   },
   "outputs": [
    {
     "name": "stdout",
     "output_type": "stream",
     "text": [
      "(155218, 235)\n"
     ]
    }
   ],
   "source": [
    "hca = pd.read_csv(os.path.join(datadir, 'ss15hca.csv'))\n",
    "print hca.shape"
   ]
  },
  {
   "cell_type": "code",
   "execution_count": 4,
   "metadata": {
    "collapsed": false
   },
   "outputs": [
    {
     "name": "stdout",
     "output_type": "stream",
     "text": [
      "155218\n",
      "15928\n"
     ]
    }
   ],
   "source": [
    "# Basic filtering\n",
    "# Housing units only (no group quarters)\n",
    "# Moved in the last year\n",
    "\n",
    "filters = {\n",
    "    'TYPE': 1,\n",
    "    'MV': 1\n",
    "}\n",
    "\n",
    "print len(hca)\n",
    "\n",
    "for var in filters.keys():\n",
    "    hca = hca[hca[var] == filters[var]]\n",
    "    \n",
    "print len(hca)"
   ]
  },
  {
   "cell_type": "code",
   "execution_count": 5,
   "metadata": {
    "collapsed": false
   },
   "outputs": [
    {
     "name": "stdout",
     "output_type": "stream",
     "text": [
      "235\n",
      "155\n",
      "(15928, 155)\n"
     ]
    }
   ],
   "source": [
    "# Remove weighting variables\n",
    "\n",
    "cols = hca.columns.tolist()\n",
    "print len(cols)\n",
    "\n",
    "new_cols = [var for var in cols if not var.startswith('wgtp')]\n",
    "print len(new_cols)\n",
    "\n",
    "hca = hca[new_cols]\n",
    "print hca.shape"
   ]
  },
  {
   "cell_type": "code",
   "execution_count": 6,
   "metadata": {
    "collapsed": false
   },
   "outputs": [
    {
     "name": "stdout",
     "output_type": "stream",
     "text": [
      "(15667, 155)\n"
     ]
    }
   ],
   "source": [
    "# Recode tenure to binary and remove old variable\n",
    "\n",
    "hca.loc[hca.TEN.isin([1,2]), 'tenure_own'] = 1\n",
    "hca.loc[hca.TEN == 3, 'tenure_own'] = 0\n",
    "hca = hca.loc[pd.notnull(hca.tenure_own)]\n",
    "hca = hca.drop('TEN', axis=1)\n",
    "print hca.shape"
   ]
  },
  {
   "cell_type": "code",
   "execution_count": 7,
   "metadata": {
    "collapsed": false
   },
   "outputs": [
    {
     "name": "stdout",
     "output_type": "stream",
     "text": [
      "(15667, 154)\n"
     ]
    }
   ],
   "source": [
    "# Get columns that are not strings and remove string columns\n",
    "numeric_cols = hca.dtypes[hca.dtypes != 'object'].index.tolist()\n",
    "\n",
    "hca = hca[numeric_cols]\n",
    "print hca.shape"
   ]
  },
  {
   "cell_type": "code",
   "execution_count": 8,
   "metadata": {
    "collapsed": false
   },
   "outputs": [
    {
     "name": "stdout",
     "output_type": "stream",
     "text": [
      "(15667, 117)\n"
     ]
    }
   ],
   "source": [
    "# Remove columns that have NAs (have to return to this)\n",
    "hca = hca.dropna(axis=1)\n",
    "print hca.shape"
   ]
  },
  {
   "cell_type": "code",
   "execution_count": 9,
   "metadata": {
    "collapsed": true
   },
   "outputs": [],
   "source": [
    "housing_vars = [\n",
    "    'ACCESS',\n",
    "    'BATH',\n",
    "    'RMSP',\n",
    "    'YBL',\n",
    "    'KIT'\n",
    "]"
   ]
  },
  {
   "cell_type": "code",
   "execution_count": 10,
   "metadata": {
    "collapsed": true
   },
   "outputs": [],
   "source": [
    "def recode_binary(df, oldvar, newvar):\n",
    "    \n",
    "    df.loc[df[oldvar] == 1, newvar] = 1\n",
    "    df.loc[df[oldvar] == 2, newvar] = 0"
   ]
  },
  {
   "cell_type": "code",
   "execution_count": 11,
   "metadata": {
    "collapsed": false
   },
   "outputs": [],
   "source": [
    "# Recoding categorical variables\n",
    "\n",
    "hca.loc[hca.ACCESS.isin([1, 2]), 'access_recode'] = 1\n",
    "hca.loc[hca.ACCESS == 3, 'access_recode'] = 0\n",
    "\n",
    "recode_binary(hca, 'BATH', 'bath_recode')\n",
    "\n",
    "hca.loc[hca.YBL.isin(range(1,7)), 'before1990'] = 1\n",
    "hca.loc[hca.YBL.isin(range(7,20)), 'before1990'] = 0\n",
    "\n",
    "recode_binary(hca, 'KIT', 'kit_recode')\n",
    "\n",
    "housing_vars_recode = [\n",
    "    'access_recode',\n",
    "    'bath_recode',\n",
    "    'RMSP',\n",
    "    'before1990',\n",
    "    'kit_recode'\n",
    "]"
   ]
  },
  {
   "cell_type": "code",
   "execution_count": 12,
   "metadata": {
    "collapsed": false
   },
   "outputs": [],
   "source": [
    "household_vars = [\n",
    "    'FS',\n",
    "    'LAPTOP',\n",
    "    'VEH',\n",
    "    'HHL',\n",
    "    'HHT',\n",
    "    'HINCP',\n",
    "    'HUGCL',\n",
    "    'HUPAC',\n",
    "    'LNGI',\n",
    "    'MULTG',\n",
    "    'NR',\n",
    "    'PARTNER',\n",
    "    'SSMC'\n",
    "]"
   ]
  },
  {
   "cell_type": "code",
   "execution_count": 13,
   "metadata": {
    "collapsed": false
   },
   "outputs": [],
   "source": [
    "recode_binary(hca, 'FS', 'fs_recode')\n",
    "recode_binary(hca, 'LAPTOP', 'laptop_recode')\n",
    "\n",
    "hca.loc[hca.HHL == 1, 'english_hh'] = 1\n",
    "hca.loc[hca.HHL.isin(range(2,6)), 'english_hh'] = 0\n",
    "\n",
    "hca.loc[hca.HHT == 1, 'single_parent'] = 0\n",
    "hca.loc[hca.HHT.isin(range(4,8)), 'single_parent'] = 0\n",
    "hca.loc[hca.HHT.isin(range(2,4)), 'single_parent'] = 1\n",
    "\n",
    "hca.loc[hca.HHT == 1, 'nonfamily'] = 0\n",
    "hca.loc[hca.HHT.isin(range(4,8)), 'nonfamily'] = 1\n",
    "hca.loc[hca.HHT.isin(range(2,4)), 'nonfamily'] = 0\n",
    "\n",
    "hca.loc[hca.HUPAC == 4, 'children'] = 0\n",
    "hca.loc[hca.HUPAC.isin(range(1,4)), 'children'] = 1\n",
    "\n",
    "recode_binary(hca, 'LNGI', 'good_english_speaker') \n",
    "recode_binary(hca, 'MULTG', 'multigen') \n",
    "\n",
    "hca.loc[hca.PARTNER == 0, 'unmarried_partner'] = 0\n",
    "hca.loc[hca.PARTNER.isin(range(1,5)), 'unmarried_partner'] = 1\n",
    "\n",
    "hca.loc[hca.SSMC == 0, 'samesex_marriage'] = 0\n",
    "hca.loc[hca.SSMC.isin([1,2]), 'samesex_marriage'] = 1\n",
    "\n",
    "household_vars_recode = [\n",
    "    'fs_recode',\n",
    "    'laptop_recode',\n",
    "    'VEH',\n",
    "    'english_hh',\n",
    "    'single_parent',\n",
    "    'nonfamily',\n",
    "    'HINCP',\n",
    "    'HUGCL',\n",
    "    'children',\n",
    "    'good_english_speaker',\n",
    "    'multigen',\n",
    "    'NR',\n",
    "    'unmarried_partner',\n",
    "    'samesex_marriage'\n",
    "]"
   ]
  },
  {
   "cell_type": "code",
   "execution_count": 14,
   "metadata": {
    "collapsed": false
   },
   "outputs": [],
   "source": [
    "# hca = hca[housing_vars + household_vars + ['tenure_own']]\n",
    "# hca = hca[household_vars + ['tenure_own']]\n",
    "hca = hca[household_vars_recode + ['tenure_own']]"
   ]
  },
  {
   "cell_type": "code",
   "execution_count": 15,
   "metadata": {
    "collapsed": false
   },
   "outputs": [
    {
     "ename": "KeyError",
     "evalue": "\"['ACCESS' 'BATH' 'RMSP' 'YBL' 'KIT' 'FS' 'LAPTOP' 'HHL' 'HHT' 'HUPAC'\\n 'LNGI' 'MULTG' 'PARTNER' 'SSMC'] not in index\"",
     "output_type": "error",
     "traceback": [
      "\u001b[1;31m---------------------------------------------------------------------------\u001b[0m",
      "\u001b[1;31mKeyError\u001b[0m                                  Traceback (most recent call last)",
      "\u001b[1;32m<ipython-input-15-3bcc80b2fcb2>\u001b[0m in \u001b[0;36m<module>\u001b[1;34m()\u001b[0m\n\u001b[1;32m----> 1\u001b[1;33m \u001b[0mhca\u001b[0m\u001b[1;33m[\u001b[0m\u001b[0mhousing_vars\u001b[0m \u001b[1;33m+\u001b[0m \u001b[0mhousehold_vars\u001b[0m \u001b[1;33m+\u001b[0m \u001b[1;33m[\u001b[0m\u001b[1;34m'tenure_own'\u001b[0m\u001b[1;33m]\u001b[0m\u001b[1;33m]\u001b[0m\u001b[1;33m.\u001b[0m\u001b[0mto_csv\u001b[0m\u001b[1;33m(\u001b[0m\u001b[1;34m'./../hca_all.csv'\u001b[0m\u001b[1;33m)\u001b[0m\u001b[1;33m\u001b[0m\u001b[0m\n\u001b[0m\u001b[0;32m      2\u001b[0m \u001b[0mhca\u001b[0m\u001b[1;33m[\u001b[0m\u001b[0mhousehold_vars\u001b[0m \u001b[1;33m+\u001b[0m \u001b[1;33m[\u001b[0m\u001b[1;34m'tenure_own'\u001b[0m\u001b[1;33m]\u001b[0m\u001b[1;33m]\u001b[0m\u001b[1;33m.\u001b[0m\u001b[0mto_csv\u001b[0m\u001b[1;33m(\u001b[0m\u001b[1;34m'./../hca_household_vars.csv'\u001b[0m\u001b[1;33m)\u001b[0m\u001b[1;33m\u001b[0m\u001b[0m\n\u001b[0;32m      3\u001b[0m \u001b[0mhca\u001b[0m\u001b[1;33m[\u001b[0m\u001b[0mhousing_vars_recode\u001b[0m \u001b[1;33m+\u001b[0m \u001b[0mhousehold_vars_recode\u001b[0m \u001b[1;33m+\u001b[0m \u001b[1;33m[\u001b[0m\u001b[1;34m'tenure_own'\u001b[0m\u001b[1;33m]\u001b[0m\u001b[1;33m]\u001b[0m\u001b[1;33m.\u001b[0m\u001b[0mto_csv\u001b[0m\u001b[1;33m(\u001b[0m\u001b[1;34m'./../hca_all_recode.csv'\u001b[0m\u001b[1;33m)\u001b[0m\u001b[1;33m\u001b[0m\u001b[0m\n\u001b[0;32m      4\u001b[0m \u001b[0mhca\u001b[0m\u001b[1;33m[\u001b[0m\u001b[0mhousehold_vars_recode\u001b[0m \u001b[1;33m+\u001b[0m \u001b[1;33m[\u001b[0m\u001b[1;34m'tenure_own'\u001b[0m\u001b[1;33m]\u001b[0m\u001b[1;33m]\u001b[0m\u001b[1;33m.\u001b[0m\u001b[0mto_csv\u001b[0m\u001b[1;33m(\u001b[0m\u001b[1;34m'./../hca_household_vars_recode.csv'\u001b[0m\u001b[1;33m)\u001b[0m\u001b[1;33m\u001b[0m\u001b[0m\n",
      "\u001b[1;32m/home/paul/anaconda2/lib/python2.7/site-packages/pandas/core/frame.pyc\u001b[0m in \u001b[0;36m__getitem__\u001b[1;34m(self, key)\u001b[0m\n\u001b[0;32m   1989\u001b[0m         \u001b[1;32mif\u001b[0m \u001b[0misinstance\u001b[0m\u001b[1;33m(\u001b[0m\u001b[0mkey\u001b[0m\u001b[1;33m,\u001b[0m \u001b[1;33m(\u001b[0m\u001b[0mSeries\u001b[0m\u001b[1;33m,\u001b[0m \u001b[0mnp\u001b[0m\u001b[1;33m.\u001b[0m\u001b[0mndarray\u001b[0m\u001b[1;33m,\u001b[0m \u001b[0mIndex\u001b[0m\u001b[1;33m,\u001b[0m \u001b[0mlist\u001b[0m\u001b[1;33m)\u001b[0m\u001b[1;33m)\u001b[0m\u001b[1;33m:\u001b[0m\u001b[1;33m\u001b[0m\u001b[0m\n\u001b[0;32m   1990\u001b[0m             \u001b[1;31m# either boolean or fancy integer index\u001b[0m\u001b[1;33m\u001b[0m\u001b[1;33m\u001b[0m\u001b[0m\n\u001b[1;32m-> 1991\u001b[1;33m             \u001b[1;32mreturn\u001b[0m \u001b[0mself\u001b[0m\u001b[1;33m.\u001b[0m\u001b[0m_getitem_array\u001b[0m\u001b[1;33m(\u001b[0m\u001b[0mkey\u001b[0m\u001b[1;33m)\u001b[0m\u001b[1;33m\u001b[0m\u001b[0m\n\u001b[0m\u001b[0;32m   1992\u001b[0m         \u001b[1;32melif\u001b[0m \u001b[0misinstance\u001b[0m\u001b[1;33m(\u001b[0m\u001b[0mkey\u001b[0m\u001b[1;33m,\u001b[0m \u001b[0mDataFrame\u001b[0m\u001b[1;33m)\u001b[0m\u001b[1;33m:\u001b[0m\u001b[1;33m\u001b[0m\u001b[0m\n\u001b[0;32m   1993\u001b[0m             \u001b[1;32mreturn\u001b[0m \u001b[0mself\u001b[0m\u001b[1;33m.\u001b[0m\u001b[0m_getitem_frame\u001b[0m\u001b[1;33m(\u001b[0m\u001b[0mkey\u001b[0m\u001b[1;33m)\u001b[0m\u001b[1;33m\u001b[0m\u001b[0m\n",
      "\u001b[1;32m/home/paul/anaconda2/lib/python2.7/site-packages/pandas/core/frame.pyc\u001b[0m in \u001b[0;36m_getitem_array\u001b[1;34m(self, key)\u001b[0m\n\u001b[0;32m   2033\u001b[0m             \u001b[1;32mreturn\u001b[0m \u001b[0mself\u001b[0m\u001b[1;33m.\u001b[0m\u001b[0mtake\u001b[0m\u001b[1;33m(\u001b[0m\u001b[0mindexer\u001b[0m\u001b[1;33m,\u001b[0m \u001b[0maxis\u001b[0m\u001b[1;33m=\u001b[0m\u001b[1;36m0\u001b[0m\u001b[1;33m,\u001b[0m \u001b[0mconvert\u001b[0m\u001b[1;33m=\u001b[0m\u001b[0mFalse\u001b[0m\u001b[1;33m)\u001b[0m\u001b[1;33m\u001b[0m\u001b[0m\n\u001b[0;32m   2034\u001b[0m         \u001b[1;32melse\u001b[0m\u001b[1;33m:\u001b[0m\u001b[1;33m\u001b[0m\u001b[0m\n\u001b[1;32m-> 2035\u001b[1;33m             \u001b[0mindexer\u001b[0m \u001b[1;33m=\u001b[0m \u001b[0mself\u001b[0m\u001b[1;33m.\u001b[0m\u001b[0mix\u001b[0m\u001b[1;33m.\u001b[0m\u001b[0m_convert_to_indexer\u001b[0m\u001b[1;33m(\u001b[0m\u001b[0mkey\u001b[0m\u001b[1;33m,\u001b[0m \u001b[0maxis\u001b[0m\u001b[1;33m=\u001b[0m\u001b[1;36m1\u001b[0m\u001b[1;33m)\u001b[0m\u001b[1;33m\u001b[0m\u001b[0m\n\u001b[0m\u001b[0;32m   2036\u001b[0m             \u001b[1;32mreturn\u001b[0m \u001b[0mself\u001b[0m\u001b[1;33m.\u001b[0m\u001b[0mtake\u001b[0m\u001b[1;33m(\u001b[0m\u001b[0mindexer\u001b[0m\u001b[1;33m,\u001b[0m \u001b[0maxis\u001b[0m\u001b[1;33m=\u001b[0m\u001b[1;36m1\u001b[0m\u001b[1;33m,\u001b[0m \u001b[0mconvert\u001b[0m\u001b[1;33m=\u001b[0m\u001b[0mTrue\u001b[0m\u001b[1;33m)\u001b[0m\u001b[1;33m\u001b[0m\u001b[0m\n\u001b[0;32m   2037\u001b[0m \u001b[1;33m\u001b[0m\u001b[0m\n",
      "\u001b[1;32m/home/paul/anaconda2/lib/python2.7/site-packages/pandas/core/indexing.pyc\u001b[0m in \u001b[0;36m_convert_to_indexer\u001b[1;34m(self, obj, axis, is_setter)\u001b[0m\n\u001b[0;32m   1212\u001b[0m                 \u001b[0mmask\u001b[0m \u001b[1;33m=\u001b[0m \u001b[0mcheck\u001b[0m \u001b[1;33m==\u001b[0m \u001b[1;33m-\u001b[0m\u001b[1;36m1\u001b[0m\u001b[1;33m\u001b[0m\u001b[0m\n\u001b[0;32m   1213\u001b[0m                 \u001b[1;32mif\u001b[0m \u001b[0mmask\u001b[0m\u001b[1;33m.\u001b[0m\u001b[0many\u001b[0m\u001b[1;33m(\u001b[0m\u001b[1;33m)\u001b[0m\u001b[1;33m:\u001b[0m\u001b[1;33m\u001b[0m\u001b[0m\n\u001b[1;32m-> 1214\u001b[1;33m                     \u001b[1;32mraise\u001b[0m \u001b[0mKeyError\u001b[0m\u001b[1;33m(\u001b[0m\u001b[1;34m'%s not in index'\u001b[0m \u001b[1;33m%\u001b[0m \u001b[0mobjarr\u001b[0m\u001b[1;33m[\u001b[0m\u001b[0mmask\u001b[0m\u001b[1;33m]\u001b[0m\u001b[1;33m)\u001b[0m\u001b[1;33m\u001b[0m\u001b[0m\n\u001b[0m\u001b[0;32m   1215\u001b[0m \u001b[1;33m\u001b[0m\u001b[0m\n\u001b[0;32m   1216\u001b[0m                 \u001b[1;32mreturn\u001b[0m \u001b[0m_values_from_object\u001b[0m\u001b[1;33m(\u001b[0m\u001b[0mindexer\u001b[0m\u001b[1;33m)\u001b[0m\u001b[1;33m\u001b[0m\u001b[0m\n",
      "\u001b[1;31mKeyError\u001b[0m: \"['ACCESS' 'BATH' 'RMSP' 'YBL' 'KIT' 'FS' 'LAPTOP' 'HHL' 'HHT' 'HUPAC'\\n 'LNGI' 'MULTG' 'PARTNER' 'SSMC'] not in index\""
     ]
    }
   ],
   "source": [
    "hca[housing_vars + household_vars + ['tenure_own']].to_csv('./../hca_all.csv')\n",
    "hca[household_vars + ['tenure_own']].to_csv('./../hca_household_vars.csv')\n",
    "hca[housing_vars_recode + household_vars_recode + ['tenure_own']].to_csv('./../hca_all_recode.csv')\n",
    "hca[household_vars_recode + ['tenure_own']].to_csv('./../hca_household_vars_recode.csv')"
   ]
  },
  {
   "cell_type": "code",
   "execution_count": 16,
   "metadata": {
    "collapsed": true
   },
   "outputs": [],
   "source": [
    "# Prepare data for models\n",
    "\n",
    "data = hca.as_matrix()\n",
    "X = data[:, :-1]\n",
    "y = data[:, -1]"
   ]
  },
  {
   "cell_type": "code",
   "execution_count": 17,
   "metadata": {
    "collapsed": false
   },
   "outputs": [
    {
     "data": {
      "text/plain": [
       "array([[ 0.,  1.,  2., ...,  0.,  0.,  0.],\n",
       "       [ 0.,  1.,  2., ...,  1.,  1.,  0.],\n",
       "       [ 0.,  1.,  1., ...,  0.,  0.,  0.],\n",
       "       ..., \n",
       "       [ 0.,  0.,  0., ...,  0.,  0.,  0.],\n",
       "       [ 0.,  1.,  2., ...,  1.,  0.,  0.],\n",
       "       [ 1.,  1.,  0., ...,  0.,  0.,  0.]])"
      ]
     },
     "execution_count": 17,
     "metadata": {},
     "output_type": "execute_result"
    }
   ],
   "source": [
    "X"
   ]
  },
  {
   "cell_type": "code",
   "execution_count": 18,
   "metadata": {
    "collapsed": false
   },
   "outputs": [],
   "source": [
    "from sklearn.svm import LinearSVC\n",
    "from sklearn.cross_validation import cross_val_score\n",
    "import numpy as np"
   ]
  },
  {
   "cell_type": "code",
   "execution_count": 19,
   "metadata": {
    "collapsed": true
   },
   "outputs": [],
   "source": [
    "from sklearn.tree import DecisionTreeClassifier\n",
    "import itertools"
   ]
  },
  {
   "cell_type": "code",
   "execution_count": 20,
   "metadata": {
    "collapsed": false
   },
   "outputs": [
    {
     "name": "stdout",
     "output_type": "stream",
     "text": [
      "1 0.738175789508\n",
      "2 0.745133654605\n",
      "3 0.760771212502\n",
      "4 0.763643308517\n",
      "5 0.764664616351\n",
      "6 0.764664653016\n",
      "7 0.763196639871\n",
      "8 0.759813749392\n",
      "9 0.758473291261\n"
     ]
    }
   ],
   "source": [
    "for i in range(1,10):\n",
    "    tree = DecisionTreeClassifier(max_depth=i)\n",
    "    tree.fit(X, y)\n",
    "    print i, cross_val_score(tree, X, y).mean()"
   ]
  },
  {
   "cell_type": "code",
   "execution_count": 22,
   "metadata": {
    "collapsed": false
   },
   "outputs": [
    {
     "name": "stdout",
     "output_type": "stream",
     "text": [
      "0.757419107792\n",
      "0.756032171582\n",
      "0.763309076982\n"
     ]
    }
   ],
   "source": [
    "for i in cross_val_score(tree, X, y):\n",
    "    print i"
   ]
  },
  {
   "cell_type": "code",
   "execution_count": 66,
   "metadata": {
    "collapsed": false
   },
   "outputs": [
    {
     "data": {
      "text/plain": [
       "DecisionTreeClassifier(class_weight=None, criterion='gini', max_depth=5,\n",
       "            max_features=None, max_leaf_nodes=None, min_samples_leaf=1,\n",
       "            min_samples_split=2, min_weight_fraction_leaf=0.0,\n",
       "            presort=False, random_state=None, splitter='best')"
      ]
     },
     "execution_count": 66,
     "metadata": {},
     "output_type": "execute_result"
    }
   ],
   "source": [
    "tree = DecisionTreeClassifier(max_depth=5)\n",
    "tree.fit(X,y)"
   ]
  },
  {
   "cell_type": "code",
   "execution_count": 18,
   "metadata": {
    "collapsed": true
   },
   "outputs": [],
   "source": [
    "from sklearn.tree import export_graphviz\n",
    "export_graphviz(decision_tree=tree, feature_names = housing_vars + household_vars)"
   ]
  },
  {
   "cell_type": "code",
   "execution_count": 67,
   "metadata": {
    "collapsed": true
   },
   "outputs": [],
   "source": [
    "from sklearn.ensemble import RandomForestClassifier"
   ]
  },
  {
   "cell_type": "code",
   "execution_count": 68,
   "metadata": {
    "collapsed": false
   },
   "outputs": [
    {
     "name": "stdout",
     "output_type": "stream",
     "text": [
      "1 0.738175789508\n",
      "2 0.738175789508\n",
      "3 0.750686960196\n",
      "4 0.756940663441\n",
      "5 0.759813064992\n",
      "6 0.76383465937\n",
      "7 0.766260025632\n",
      "8 0.765749646697\n",
      "9 0.766324249221\n",
      "10 0.765047256951\n",
      "11 0.762557960414\n",
      "12 0.76128144478\n",
      "13 0.757196604526\n",
      "14 0.750367101058\n",
      "15 0.745516087441\n",
      "16 0.742580000044\n",
      "17 0.734856413776\n",
      "18 0.732431169728\n",
      "19 0.731728853311\n"
     ]
    }
   ],
   "source": [
    "for i in range(1,20):\n",
    "    tree = RandomForestClassifier(max_depth=i)\n",
    "    tree.fit(X, y)\n",
    "    print i, cross_val_score(tree, X, y).mean()"
   ]
  },
  {
   "cell_type": "code",
   "execution_count": 81,
   "metadata": {
    "collapsed": false
   },
   "outputs": [
    {
     "name": "stdout",
     "output_type": "stream",
     "text": [
      "1 0.713600312321\n",
      "2 0.67281136702\n",
      "3 0.670769142437\n",
      "4 0.730708156547\n",
      "5 0.72885628066\n",
      "6 0.734537483465\n",
      "7 0.724580358425\n",
      "8 0.682896963682\n",
      "9 0.718579406473\n"
     ]
    }
   ],
   "source": [
    "for i in range(1,10):\n",
    "    model = LinearSVC(C=i)\n",
    "    model.fit(X, y)\n",
    "    print i, cross_val_score(model, X, y).mean()"
   ]
  },
  {
   "cell_type": "code",
   "execution_count": 82,
   "metadata": {
    "collapsed": true
   },
   "outputs": [],
   "source": [
    "from sklearn.neighbors import KNeighborsClassifier"
   ]
  },
  {
   "cell_type": "code",
   "execution_count": 83,
   "metadata": {
    "collapsed": false
   },
   "outputs": [
    {
     "name": "stdout",
     "output_type": "stream",
     "text": [
      "1 uniform 0.673645393736\n",
      "1 distance 0.673645393736\n",
      "6 uniform 0.737218277513\n",
      "6 distance 0.712070141008\n",
      "11 uniform 0.736771657752\n",
      "11 distance 0.716984962685\n",
      "16 uniform 0.745069113259\n",
      "16 distance 0.71992102564\n",
      "21 uniform 0.74360123455\n",
      "21 distance 0.721644368799\n",
      "26 uniform 0.74736712005\n",
      "26 distance 0.722601721916\n",
      "31 uniform 0.746792493082\n",
      "31 distance 0.724069808389\n",
      "36 uniform 0.746218159429\n",
      "36 distance 0.724452778968\n",
      "41 uniform 0.746026771912\n",
      "41 distance 0.724835737324\n",
      "46 uniform 0.744622579049\n",
      "46 distance 0.724835712881\n",
      "51 uniform 0.744814015452\n",
      "51 distance 0.725027173728\n",
      "56 uniform 0.74545236493\n",
      "56 distance 0.725410168749\n",
      "61 uniform 0.745260891862\n",
      "61 distance 0.725346299581\n",
      "66 uniform 0.746665023618\n",
      "66 distance 0.725473989031\n",
      "71 uniform 0.745835249958\n",
      "71 distance 0.725601641816\n",
      "76 uniform 0.746154229155\n",
      "76 distance 0.725984600173\n",
      "81 uniform 0.747622388957\n",
      "81 distance 0.725729282381\n",
      "86 uniform 0.747813923131\n",
      "86 distance 0.726048396013\n",
      "91 uniform 0.747686172574\n",
      "91 distance 0.726112216295\n",
      "96 uniform 0.748069143153\n",
      "96 distance 0.726112240737\n"
     ]
    }
   ],
   "source": [
    "for i, j in itertools.product(range(1,100,5), ['uniform', 'distance']):\n",
    "    model = KNeighborsClassifier(n_neighbors=i, weights=j)\n",
    "    model.fit(X, y)\n",
    "    print i, j, cross_val_score(model, X, y).mean()"
   ]
  },
  {
   "cell_type": "code",
   "execution_count": 84,
   "metadata": {
    "collapsed": true
   },
   "outputs": [],
   "source": [
    "from sklearn.linear_model import LogisticRegression\n",
    "from sklearn.linear_model import LogisticRegressionCV"
   ]
  },
  {
   "cell_type": "code",
   "execution_count": 85,
   "metadata": {
    "collapsed": true
   },
   "outputs": [],
   "source": [
    "model = LogisticRegressionCV()"
   ]
  },
  {
   "cell_type": "code",
   "execution_count": 86,
   "metadata": {
    "collapsed": false
   },
   "outputs": [
    {
     "data": {
      "text/plain": [
       "LogisticRegressionCV(Cs=10, class_weight=None, cv=None, dual=False,\n",
       "           fit_intercept=True, intercept_scaling=1.0, max_iter=100,\n",
       "           multi_class='ovr', n_jobs=1, penalty='l2', random_state=None,\n",
       "           refit=True, scoring=None, solver='lbfgs', tol=0.0001, verbose=0)"
      ]
     },
     "execution_count": 86,
     "metadata": {},
     "output_type": "execute_result"
    }
   ],
   "source": [
    "model.fit(X, y)"
   ]
  },
  {
   "cell_type": "code",
   "execution_count": 87,
   "metadata": {
    "collapsed": false
   },
   "outputs": [
    {
     "data": {
      "text/plain": [
       "array([ 0.74210224,  0.74894676,  0.7384144 ])"
      ]
     },
     "execution_count": 87,
     "metadata": {},
     "output_type": "execute_result"
    }
   ],
   "source": [
    "cross_val_score(model, X, y)"
   ]
  },
  {
   "cell_type": "code",
   "execution_count": 88,
   "metadata": {
    "collapsed": false
   },
   "outputs": [
    {
     "data": {
      "text/plain": [
       "array([[ -7.92149634e-02,  -1.24275410e-01,   2.31236445e-02,\n",
       "         -9.25694448e-02,  -7.51622806e-02,  -1.96098075e-01,\n",
       "          2.41771083e-06,  -2.28549411e-04,  -4.98295732e-02,\n",
       "         -1.79444474e-01,  -2.24877849e-01,  -1.08959018e-01,\n",
       "         -4.58386253e-02,   7.26379113e-04]])"
      ]
     },
     "execution_count": 88,
     "metadata": {},
     "output_type": "execute_result"
    }
   ],
   "source": [
    "model.coef_"
   ]
  },
  {
   "cell_type": "code",
   "execution_count": null,
   "metadata": {
    "collapsed": true
   },
   "outputs": [],
   "source": []
  }
 ],
 "metadata": {
  "kernelspec": {
   "display_name": "Python 2",
   "language": "python",
   "name": "python2"
  },
  "language_info": {
   "codemirror_mode": {
    "name": "ipython",
    "version": 2
   },
   "file_extension": ".py",
   "mimetype": "text/x-python",
   "name": "python",
   "nbconvert_exporter": "python",
   "pygments_lexer": "ipython2",
   "version": "2.7.12"
  }
 },
 "nbformat": 4,
 "nbformat_minor": 0
}
